{
 "cells": [
  {
   "cell_type": "markdown",
   "metadata": {},
   "source": [
    "# Rough Document Where I Learn More About the Data\n",
    "##### This document can be ignored"
   ]
  },
  {
   "cell_type": "code",
   "execution_count": 1,
   "metadata": {},
   "outputs": [],
   "source": [
    "#Importing the necessary packages and uploading the CSV files as dataframes.\n",
    "\n",
    "import pandas as pd\n",
    "import sqldf\n",
    "import matplotlib.pyplot as plt\n",
    "import warnings\n",
    "warnings.simplefilter(\"ignore\", UserWarning)\n",
    "\n",
    "cd= pd.read_csv('customer_data.csv') #Uploading customer data as a dataframe cd\n",
    "\n",
    "od= pd.read_csv('order_data.csv') #Uploading order data as a dataframe od\n",
    "\n",
    "opd= pd.read_csv('order_product_data.csv') #Uploading order product data as a dataframe opd\n",
    "\n",
    "prod= pd.read_csv('product_data.csv') #Uploading product data as a dataframe prod"
   ]
  },
  {
   "cell_type": "code",
   "execution_count": 4,
   "metadata": {},
   "outputs": [
    {
     "name": "stdout",
     "output_type": "stream",
     "text": [
      "   Unnamed: 0                        product_id  number_of_photos   category\n",
      "0           0  1e9e8ef04dbcff4541ed26657ea517e5                 1  perfumery\n",
      "1           1  6a2fb4dd53d2cdb88e0432f1284a004c                 2  perfumery\n",
      "2           2  0d009643171aee696f4733340bc2fdd0                 1  perfumery\n",
      "3           3  b1eae565a61935e0011ee7682fef9dc9                 2  perfumery\n",
      "4           4  8da90b37f0fb171b4877c124f965b1f6                 3  perfumery\n"
     ]
    }
   ],
   "source": [
    "print(prod.head(5))"
   ]
  },
  {
   "cell_type": "code",
   "execution_count": 5,
   "metadata": {},
   "outputs": [
    {
     "data": {
      "text/plain": [
       "Index(['Unnamed: 0', 'product_id', 'number_of_photos', 'category'], dtype='object')"
      ]
     },
     "execution_count": 5,
     "metadata": {},
     "output_type": "execute_result"
    }
   ],
   "source": [
    "prod.columns"
   ]
  },
  {
   "cell_type": "code",
   "execution_count": 6,
   "metadata": {},
   "outputs": [
    {
     "data": {
      "text/plain": [
       "Unnamed: 0           int64\n",
       "product_id          object\n",
       "number_of_photos     int64\n",
       "category            object\n",
       "dtype: object"
      ]
     },
     "execution_count": 6,
     "metadata": {},
     "output_type": "execute_result"
    }
   ],
   "source": [
    "prod.dtypes"
   ]
  },
  {
   "cell_type": "code",
   "execution_count": 65,
   "metadata": {},
   "outputs": [
    {
     "data": {
      "text/html": [
       "<div>\n",
       "<style scoped>\n",
       "    .dataframe tbody tr th:only-of-type {\n",
       "        vertical-align: middle;\n",
       "    }\n",
       "\n",
       "    .dataframe tbody tr th {\n",
       "        vertical-align: top;\n",
       "    }\n",
       "\n",
       "    .dataframe thead th {\n",
       "        text-align: right;\n",
       "    }\n",
       "</style>\n",
       "<table border=\"1\" class=\"dataframe\">\n",
       "  <thead>\n",
       "    <tr style=\"text-align: right;\">\n",
       "      <th></th>\n",
       "      <th>Unnamed: 0</th>\n",
       "      <th>number_of_photos</th>\n",
       "    </tr>\n",
       "  </thead>\n",
       "  <tbody>\n",
       "    <tr>\n",
       "      <th>count</th>\n",
       "      <td>32328.000000</td>\n",
       "      <td>32328.000000</td>\n",
       "    </tr>\n",
       "    <tr>\n",
       "      <th>mean</th>\n",
       "      <td>16163.500000</td>\n",
       "      <td>2.188815</td>\n",
       "    </tr>\n",
       "    <tr>\n",
       "      <th>std</th>\n",
       "      <td>9332.434088</td>\n",
       "      <td>1.736746</td>\n",
       "    </tr>\n",
       "    <tr>\n",
       "      <th>min</th>\n",
       "      <td>0.000000</td>\n",
       "      <td>1.000000</td>\n",
       "    </tr>\n",
       "    <tr>\n",
       "      <th>25%</th>\n",
       "      <td>8081.750000</td>\n",
       "      <td>1.000000</td>\n",
       "    </tr>\n",
       "    <tr>\n",
       "      <th>50%</th>\n",
       "      <td>16163.500000</td>\n",
       "      <td>1.000000</td>\n",
       "    </tr>\n",
       "    <tr>\n",
       "      <th>75%</th>\n",
       "      <td>24245.250000</td>\n",
       "      <td>3.000000</td>\n",
       "    </tr>\n",
       "    <tr>\n",
       "      <th>max</th>\n",
       "      <td>32327.000000</td>\n",
       "      <td>20.000000</td>\n",
       "    </tr>\n",
       "  </tbody>\n",
       "</table>\n",
       "</div>"
      ],
      "text/plain": [
       "         Unnamed: 0  number_of_photos\n",
       "count  32328.000000      32328.000000\n",
       "mean   16163.500000          2.188815\n",
       "std     9332.434088          1.736746\n",
       "min        0.000000          1.000000\n",
       "25%     8081.750000          1.000000\n",
       "50%    16163.500000          1.000000\n",
       "75%    24245.250000          3.000000\n",
       "max    32327.000000         20.000000"
      ]
     },
     "execution_count": 65,
     "metadata": {},
     "output_type": "execute_result"
    }
   ],
   "source": [
    "### Read Headers \n",
    "#prod.columns\n",
    "\n",
    "#Read each Column\n",
    "# print(prod['category'][0:7])\n",
    "\n",
    "#Read each Row\n",
    "#print(prod.iloc[0:4]) \n",
    "#prod.loc[prod['category']=='perfumery']\n",
    "\n",
    "#Stats\n",
    "prod.describe()"
   ]
  },
  {
   "cell_type": "markdown",
   "metadata": {},
   "source": [
    "#### Used similar commands as above to learn more about the other dataframes as well"
   ]
  },
  {
   "cell_type": "code",
   "execution_count": 66,
   "metadata": {},
   "outputs": [
    {
     "name": "stdout",
     "output_type": "stream",
     "text": [
      "       index  Unnamed: 0                        product_id  number_of_photos  \\\n",
      "0        868         868  3aa071139cb16b67ca9e5dea641aaa2f                 1   \n",
      "1        869         869  cbaff83e2c00a2b731d27276bbf52082                 6   \n",
      "2        870         870  aedb7e30007f6051c5b3f97156b0848a                 1   \n",
      "3        871         871  b0694770dbbfebe2d48cd288cfce2f85                 1   \n",
      "4        872         872  056d07eb7d9c446e3780a3a7f102190d                 1   \n",
      "...      ...         ...                               ...               ...   \n",
      "31455  32323       32323  13b25797ad1e6d6c7cd3cbeb35f8ee7a                 1   \n",
      "31456  32324       32324  dc36a7859b743d8610a2bbbaea26ece9                 2   \n",
      "31457  32325       32325  107fde0930956120d1e13dd1062fbb46                 1   \n",
      "31458  32326       32326  726b4e18f00255e2e63491bcba3f60b8                 1   \n",
      "31459  32327       32327  1dceebcc5f23c02ea23e16d5bedca000                 2   \n",
      "\n",
      "        category  \n",
      "0            art  \n",
      "1            art  \n",
      "2            art  \n",
      "3            art  \n",
      "4            art  \n",
      "...          ...  \n",
      "31455  furniture  \n",
      "31456  furniture  \n",
      "31457  furniture  \n",
      "31458  furniture  \n",
      "31459      music  \n",
      "\n",
      "[31460 rows x 5 columns]\n"
     ]
    }
   ],
   "source": [
    "# Define a SQL (SQLite3) query\n",
    "query = \"\"\"\n",
    "SELECT *\n",
    "FROM prod\n",
    "WHERE category!='perfumery';\n",
    "\"\"\"\n",
    "\n",
    "# Run the query\n",
    "df_view = sqldf.run(query)\n",
    "\n",
    "print(df_view)"
   ]
  },
  {
   "cell_type": "code",
   "execution_count": 67,
   "metadata": {},
   "outputs": [
    {
     "name": "stdout",
     "output_type": "stream",
     "text": [
      "   max(price)\n",
      "0      6735.0\n"
     ]
    }
   ],
   "source": [
    "# Define a SQL (SQLite3) query\n",
    "query = \"\"\"\n",
    "SELECT max(price) from opd;\n",
    "\"\"\"\n",
    "\n",
    "# Run the query\n",
    "df_view = sqldf.run(query)\n",
    "\n",
    "print(df_view)"
   ]
  },
  {
   "cell_type": "code",
   "execution_count": 68,
   "metadata": {},
   "outputs": [
    {
     "name": "stdout",
     "output_type": "stream",
     "text": [
      "   index  Unnamed: 0                          order_id  num_items_in_order  \\\n",
      "0   3556        3556  0812eb902a67711a1cb742b3cdaa65ae                   1   \n",
      "\n",
      "                         product_id   price  shipping  \n",
      "0  489ae2aa008f021502940f251d4cce7f  6735.0    194.31  \n"
     ]
    }
   ],
   "source": [
    "# Define a SQL (SQLite3) query\n",
    "query = \"\"\"\n",
    "SELECT *\n",
    "from opd\n",
    "where price>=6735;\n",
    "\"\"\"\n",
    "\n",
    "# Run the query\n",
    "df_view = sqldf.run(query)\n",
    "\n",
    "print(df_view)"
   ]
  },
  {
   "cell_type": "code",
   "execution_count": 69,
   "metadata": {},
   "outputs": [
    {
     "name": "stdout",
     "output_type": "stream",
     "text": [
      "                    category\n",
      "0                  perfumery\n",
      "1                        art\n",
      "2                     sports\n",
      "3                       baby\n",
      "4                       home\n",
      "5                      music\n",
      "6              miscellaneous\n",
      "7                  furniture\n",
      "8                       toys\n",
      "9         construction_tools\n",
      "10     computers_accessories\n",
      "11             health_beauty\n",
      "12       luggage_accessories\n",
      "13              garden_tools\n",
      "14          office_furniture\n",
      "15                      auto\n",
      "16               electronics\n",
      "17             fashion_shoes\n",
      "18                    phones\n",
      "19                stationery\n",
      "20       fashion_accessories\n",
      "21                 computers\n",
      "22                   watches\n",
      "23                  pet_shop\n",
      "24               industrials\n",
      "25          air_conditioning\n",
      "26                     games\n",
      "27                     books\n",
      "28   costruction_tools_tools\n",
      "29   fashion_underwear_beach\n",
      "30              fashion_male\n",
      "31            party_supplies\n",
      "32                food_drink\n",
      "33  costruction_tools_garden\n",
      "34            fashion_female\n",
      "35                     audio\n",
      "36             fashion_sport\n",
      "37                 christmas\n",
      "38              fashion_kids\n",
      "39               photography\n",
      "40                   flowers\n"
     ]
    }
   ],
   "source": [
    "# Define a SQL (SQLite3) query\n",
    "query = \"\"\"\n",
    "SELECT DISTINCT(category)\n",
    "from prod;\n",
    "\"\"\"\n",
    "\n",
    "# Run the query\n",
    "df_view = sqldf.run(query)\n",
    "\n",
    "print(df_view)"
   ]
  },
  {
   "cell_type": "markdown",
   "metadata": {},
   "source": [
    "# Need to remove cancelled orders from the below #"
   ]
  },
  {
   "cell_type": "code",
   "execution_count": 70,
   "metadata": {
    "scrolled": true
   },
   "outputs": [
    {
     "name": "stdout",
     "output_type": "stream",
     "text": [
      "                    category  sum(opd.price)\n",
      "0                  furniture      1906392.96\n",
      "1              health_beauty      1258681.34\n",
      "2                       home      1206252.65\n",
      "3                    watches      1205005.68\n",
      "4                     sports       988048.97\n",
      "5      computers_accessories       911954.32\n",
      "6              miscellaneous       685461.84\n",
      "7                       auto       592720.11\n",
      "8               garden_tools       485256.46\n",
      "9                       toys       483946.60\n",
      "10                      baby       413332.48\n",
      "11                 perfumery       399124.87\n",
      "12                    phones       383250.53\n",
      "13          office_furniture       273960.70\n",
      "14                stationery       238471.64\n",
      "15        construction_tools       226302.11\n",
      "16                 computers       222963.13\n",
      "17                  pet_shop       214315.41\n",
      "18                     music       204262.62\n",
      "19                      None       185049.76\n",
      "20               electronics       160246.74\n",
      "21                     games       157465.22\n",
      "22       fashion_accessories       152823.54\n",
      "23       luggage_accessories       140429.98\n",
      "24               industrials       112200.08\n",
      "25                     books        70592.79\n",
      "26                food_drink        69056.58\n",
      "27          air_conditioning        55024.96\n",
      "28                     audio        50688.50\n",
      "29                       art        26016.65\n",
      "30  costruction_tools_garden        25715.89\n",
      "31             fashion_shoes        23562.77\n",
      "32   costruction_tools_tools        15903.95\n",
      "33              fashion_male        10797.82\n",
      "34   fashion_underwear_beach         9541.55\n",
      "35                 christmas         8800.82\n",
      "36               photography         6933.46\n",
      "37            party_supplies         4485.18\n",
      "38            fashion_female         2803.64\n",
      "39             fashion_sport         2119.51\n",
      "40                   flowers         1110.04\n",
      "41              fashion_kids          569.85\n"
     ]
    }
   ],
   "source": [
    "# Define a SQL (SQLite3) query\n",
    "query = \"\"\"\n",
    "SELECT prod.category, sum(opd.price)\n",
    "from opd\n",
    "left join prod\n",
    "on opd.product_id=prod.product_id\n",
    "group by prod.category\n",
    "order by 2 desc;\n",
    "\"\"\"\n",
    "\n",
    "# Run the query\n",
    "df_view = sqldf.run(query)\n",
    "\n",
    "print(df_view)"
   ]
  },
  {
   "cell_type": "code",
   "execution_count": 72,
   "metadata": {},
   "outputs": [
    {
     "name": "stdout",
     "output_type": "stream",
     "text": [
      "  order_status\n",
      "0    delivered\n",
      "1     invoiced\n",
      "2      shipped\n",
      "3   processing\n",
      "4  unavailable\n",
      "5     canceled\n",
      "6      created\n",
      "7     approved\n"
     ]
    }
   ],
   "source": [
    "# Define a SQL (SQLite3) query\n",
    "query = \"\"\"\n",
    "SELECT distinct(order_status)\n",
    "from od\n",
    "\"\"\"\n",
    "\n",
    "# Run and print the query\n",
    "print(sqldf.run(query))"
   ]
  },
  {
   "cell_type": "markdown",
   "metadata": {},
   "source": [
    "## Total # of Unique Customers: 95, 560"
   ]
  },
  {
   "cell_type": "code",
   "execution_count": 76,
   "metadata": {},
   "outputs": [
    {
     "name": "stdout",
     "output_type": "stream",
     "text": [
      "   count(distinct(customer_unique_id))\n",
      "0                                95560\n"
     ]
    }
   ],
   "source": [
    "# Define a SQL (SQLite3) query\n",
    "query = \"\"\"\n",
    "SELECT count(distinct(customer_unique_id))\n",
    "from od\n",
    "left join cd \n",
    "on cd.customer_order_id=od.customer_order_id\n",
    "where od.order_status!='canceled'\n",
    "\"\"\"\n",
    "\n",
    "# Run and print the query\n",
    "print(sqldf.run(query))"
   ]
  },
  {
   "cell_type": "code",
   "execution_count": 99,
   "metadata": {},
   "outputs": [
    {
     "data": {
      "text/plain": [
       "<matplotlib.axes._subplots.AxesSubplot at 0x12d0b1190>"
      ]
     },
     "execution_count": 99,
     "metadata": {},
     "output_type": "execute_result"
    },
    {
     "data": {
      "image/png": "[encoded data removed]",
      "text/plain": [
       "<Figure size 432x288 with 1 Axes>"
      ]
     },
     "metadata": {
      "needs_background": "light"
     },
     "output_type": "display_data"
    }
   ],
   "source": [
    "# Define a SQL (SQLite3) query\n",
    "query = \"\"\"\n",
    "SELECT count(order_id) as orders, purchased_at\n",
    "from od\n",
    "where od.order_status!='canceled'\n",
    "group by purchased_at\n",
    "--having count(order_id)>2\n",
    "order by 2 asc\n",
    "\n",
    "\"\"\"\n",
    "\n",
    "# Run and print the query\n",
    "df_view = sqldf.run(query)\n",
    "#print(df_view)\n",
    "\n",
    "df_view.plot(x ='purchased_at', y='orders', kind = 'scatter')\n",
    "\n",
    "#plt.show()"
   ]
  },
  {
   "cell_type": "code",
   "execution_count": 100,
   "metadata": {},
   "outputs": [],
   "source": [
    "plt.show()"
   ]
  },
  {
   "cell_type": "code",
   "execution_count": 7,
   "metadata": {},
   "outputs": [
    {
     "name": "stdout",
     "output_type": "stream",
     "text": [
      "     min(purchased_at)    max(purchased_at)\n",
      "0  2016-09-04 21:15:19  2018-10-17 17:30:18\n"
     ]
    }
   ],
   "source": [
    "# Define a SQL (SQLite3) query\n",
    "query = \"\"\"\n",
    "SELECT min(purchased_at), max(purchased_at)\n",
    "from od\n",
    "\"\"\"\n",
    "\n",
    "# Run and print the query\n",
    "df_view = sqldf.run(query)\n",
    "print(df_view)"
   ]
  },
  {
   "cell_type": "code",
   "execution_count": 36,
   "metadata": {},
   "outputs": [],
   "source": [
    "# Define a SQL (SQLite3) query\n",
    "query = \"\"\"\n",
    "SELECT *, strftime('%m-%Y', purchased_at) as MonthYear\n",
    "from od\n",
    "\"\"\"\n",
    "\n",
    "# Run and print the query\n",
    "odmy = sqldf.run(query) #Order data with the MonthYear column\n",
    "#print(odq)"
   ]
  },
  {
   "cell_type": "code",
   "execution_count": 26,
   "metadata": {},
   "outputs": [
    {
     "name": "stdout",
     "output_type": "stream",
     "text": [
      "   count(order_id)  Quartile\n",
      "0            12431         1\n",
      "1            12430         2\n",
      "2            12430         3\n",
      "3            12430         4\n",
      "4            12430         5\n",
      "5            12430         6\n",
      "6            12430         7\n",
      "7            12430         8\n"
     ]
    }
   ],
   "source": [
    "# Define a SQL (SQLite3) query\n",
    "query = \"\"\"\n",
    "SELECT count(order_id), Quartile\n",
    "-- SELECT count(order_id) as total_orders, ntile(3) over (partition by strftime('%Y', purchased_at) order by purchased_at) as Quarter\n",
    "from odq\n",
    "group by Quartile\n",
    "order by Quartile\n",
    "\"\"\"\n",
    "\n",
    "# Run and print the query\n",
    "df_view = sqldf.run(query) #Order data with quartile\n",
    "print(df_view)"
   ]
  },
  {
   "cell_type": "code",
   "execution_count": null,
   "metadata": {},
   "outputs": [],
   "source": []
  }
 ],
 "metadata": {
  "kernelspec": {
   "display_name": "Python 3",
   "language": "python",
   "name": "python3"
  },
  "language_info": {
   "codemirror_mode": {
    "name": "ipython",
    "version": 3
   },
   "file_extension": ".py",
   "mimetype": "text/x-python",
   "name": "python",
   "nbconvert_exporter": "python",
   "pygments_lexer": "ipython3",
   "version": "3.8.3"
  }
 },
 "nbformat": 4,
 "nbformat_minor": 4
}
